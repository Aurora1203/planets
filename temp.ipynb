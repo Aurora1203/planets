{
 "cells": [
  {
   "cell_type": "code",
   "execution_count": 1,
   "id": "7837d021-f101-409f-bab1-e7ff2b80b761",
   "metadata": {},
   "outputs": [],
   "source": [
    "import numpy as np\n",
    "import pandas as pd"
   ]
  },
  {
   "cell_type": "code",
   "execution_count": 2,
   "id": "927fd734-5ba8-4316-a2ac-d9603430484c",
   "metadata": {},
   "outputs": [],
   "source": [
    "# This is a test\n",
    "\n"
   ]
  },
  {
   "cell_type": "markdown",
   "id": "3f1ed5fc-5351-4809-b799-f35cc9702f95",
   "metadata": {},
   "source": [
    "*   Use asterisks\n",
    "*   to create\n",
    "*   bullet lists."
   ]
  },
  {
   "cell_type": "code",
   "execution_count": 3,
   "id": "3060057a-6c37-4933-9d55-4082314b97c2",
   "metadata": {},
   "outputs": [
    {
     "data": {
      "text/plain": [
       "10"
      ]
     },
     "execution_count": 3,
     "metadata": {},
     "output_type": "execute_result"
    }
   ],
   "source": [
    "7+3"
   ]
  },
  {
   "cell_type": "code",
   "execution_count": null,
   "id": "fced7db6-1c71-45f9-88f2-736a40257f23",
   "metadata": {},
   "outputs": [],
   "source": []
  }
 ],
 "metadata": {
  "kernelspec": {
   "display_name": "Python 3 (ipykernel)",
   "language": "python",
   "name": "python3"
  },
  "language_info": {
   "codemirror_mode": {
    "name": "ipython",
    "version": 3
   },
   "file_extension": ".py",
   "mimetype": "text/x-python",
   "name": "python",
   "nbconvert_exporter": "python",
   "pygments_lexer": "ipython3",
   "version": "3.9.7"
  }
 },
 "nbformat": 4,
 "nbformat_minor": 5
}
